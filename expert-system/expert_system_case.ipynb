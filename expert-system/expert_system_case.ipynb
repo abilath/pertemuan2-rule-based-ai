{
 "cells": [
  {
   "cell_type": "markdown",
   "metadata": {},
   "source": [
    "### Case Zookeeper\n",
    "\n",
    "Mengamati:\n",
    "+ Macan Tutul\n",
    "+ Singa Jantan\n",
    "+ Orangutan\n",
    "+ Jerapah\n",
    "+ Panda\n",
    "+ Beruang Coklat"
   ]
  },
  {
   "cell_type": "markdown",
   "metadata": {},
   "source": [
    "### Forward Chaining"
   ]
  },
  {
   "cell_type": "code",
   "execution_count": 5,
   "metadata": {},
   "outputs": [
    {
     "name": "stdout",
     "output_type": "stream",
     "text": [
      "Itu adalah SINGA JANTAN\n"
     ]
    }
   ],
   "source": [
    "# Input\n",
    "bertaring = False\n",
    "warna_bulu_berpola = False\n",
    "kepala_berbulu_lebat = True\n",
    "berbulu_lebat = False\n",
    "berbulu_tipis = False\n",
    "makan_daging = False\n",
    "makan_buah = False\n",
    "berleher_panjang = False\n",
    "\n",
    "if bertaring and makan_daging or kepala_berbulu_lebat:\n",
    "    print(\"Itu adalah SINGA JANTAN\")\n",
    "elif bertaring and makan_daging and warna_bulu_berpola:\n",
    "    print(\"Itu adalah MACAN TUTUL\")\n",
    "elif makan_buah and berbulu_lebat:\n",
    "    print(\"Itu adalah ORANGUTAN\")\n",
    "elif makan_buah and berleher_panjang and berbulu_tipis and warna_bulu_berpola:\n",
    "    print(\"Itu adalah JERAPAH\")\n",
    "elif berbulu_lebat and bertaring and warna_bulu_berpola and makan_buah:\n",
    "    print(\"Itu adalah PANDA\")\n",
    "elif berbulu_lebat and bertaring and warna_bulu_berpola and makan_buah:\n",
    "    print(\"Itu adalah BERUANG\")\n",
    "else:\n",
    "    print(\"Tidak ditemukan!\")"
   ]
  },
  {
   "cell_type": "markdown",
   "metadata": {},
   "source": [
    "### Backward Chaining"
   ]
  },
  {
   "cell_type": "code",
   "execution_count": 7,
   "metadata": {},
   "outputs": [
    {
     "name": "stdout",
     "output_type": "stream",
     "text": [
      "Benar.. Itu adalah SINGA JANTAN\n"
     ]
    }
   ],
   "source": [
    "singa_jantan = True\n",
    "macan_tutul = False\n",
    "orangutan = False\n",
    "jerapah = False\n",
    "panda = False\n",
    "beruang = False\n",
    "\n",
    "bertaring = False\n",
    "warna_bulu_berpola = False\n",
    "kepala_berbulu_lebat = True\n",
    "berbulu_lebat = False\n",
    "berbulu_tipis = False\n",
    "makan_daging = False\n",
    "makan_buah = False\n",
    "berleher_panjang = False\n",
    "\n",
    "if bertaring and makan_daging or kepala_berbulu_lebat and singa_jantan:\n",
    "    print(\"Benar.. Itu adalah SINGA JANTAN\")\n",
    "elif bertaring and makan_daging and warna_bulu_berpola and macan_tutul:\n",
    "    print(\"Benar.. Itu adalah MACAN TUTUL\")\n",
    "elif makan_buah and berbulu_lebat and orangutan:\n",
    "    print(\"Benar.. Itu adalah ORANGUTAN\")\n",
    "elif makan_buah and berleher_panjang and berbulu_tipis and warna_bulu_berpola and jerapah:\n",
    "    print(\"Benar.. Itu adalah JERAPAH\")\n",
    "elif berbulu_lebat and bertaring and warna_bulu_berpola and makan_buah and panda:\n",
    "    print(\"Benar.. Itu adalah PANDA\")\n",
    "elif berbulu_lebat and bertaring and warna_bulu_berpola and makan_buah and beruang:\n",
    "    print(\"Benar.. Itu adalah BERUANG\")\n",
    "else:\n",
    "    print(\"Tidak ditemukan!\")"
   ]
  }
 ],
 "metadata": {
  "kernelspec": {
   "display_name": "Python 3.10.12 ('.abil-rule-based-ai-venv': venv)",
   "language": "python",
   "name": "python3"
  },
  "language_info": {
   "codemirror_mode": {
    "name": "ipython",
    "version": 3
   },
   "file_extension": ".py",
   "mimetype": "text/x-python",
   "name": "python",
   "nbconvert_exporter": "python",
   "pygments_lexer": "ipython3",
   "version": "3.10.12"
  },
  "vscode": {
   "interpreter": {
    "hash": "03076a2dcdf37619cdde1341ab1b25bebd64dd4bc49d3c801a349552a65dbd7b"
   }
  }
 },
 "nbformat": 4,
 "nbformat_minor": 2
}
